{
 "cells": [
  {
   "cell_type": "code",
   "execution_count": 4,
   "id": "258999e3-aa44-444b-b47b-53144d84b61c",
   "metadata": {
    "tags": []
   },
   "outputs": [],
   "source": [
    "import pandas as pd\n",
    "import numpy as np\n",
    "from tpot import TPOTRegressor\n",
    "from sklearn.model_selection import train_test_split\n",
    "from sklearn.metrics import mean_squared_error, r2_score\n",
    "from sklearn.preprocessing import OneHotEncoder, PolynomialFeatures"
   ]
  },
  {
   "cell_type": "code",
   "execution_count": 5,
   "id": "95c93140-8915-47b5-a140-a3fe6b969d33",
   "metadata": {
    "tags": []
   },
   "outputs": [],
   "source": [
    "df = pd.read_csv(\"Data Sheet 4.csv\")\n",
    "train_set = pd.read_csv(\"Data Sheet 2.csv\")\n",
    "test_set = pd.read_csv(\"Data Sheet 3.csv\")"
   ]
  },
  {
   "cell_type": "code",
   "execution_count": 6,
   "id": "c5fc1fc1-face-4f48-9f53-64df219e24eb",
   "metadata": {},
   "outputs": [],
   "source": [
    "df1 = pd.concat([train_set, test_set], ignore_index=True)"
   ]
  },
  {
   "cell_type": "code",
   "execution_count": 7,
   "id": "f6c0dec9",
   "metadata": {},
   "outputs": [],
   "source": [
    "train_set = df1[df1['year'] < 2016]\n",
    "test_set = df1[df1['year'] >= 2016]"
   ]
  },
  {
   "cell_type": "code",
   "execution_count": 8,
   "id": "44241683",
   "metadata": {},
   "outputs": [],
   "source": [
    "train_set = train_set.rename(columns={'personal': 'labour', 'corporate': 'capital'})\n",
    "test_set = test_set.rename(columns={'personal': 'labour', 'corporate': 'capital'})\n"
   ]
  },
  {
   "cell_type": "code",
   "execution_count": 9,
   "id": "3bb0c3f7-91bf-4adb-812e-a5aa2f3487af",
   "metadata": {},
   "outputs": [],
   "source": [
    "train_set = train_set.drop(columns = ['year', 'country', 'Unnamed: 0'])\n",
    "test_set = test_set.drop(columns = ['year', 'country', 'Unnamed: 0'])"
   ]
  },
  {
   "cell_type": "markdown",
   "id": "f801f04f-1082-49e2-b50c-830e1236fc03",
   "metadata": {},
   "source": [
    "#### Polynomialize Features"
   ]
  },
  {
   "cell_type": "code",
   "execution_count": 10,
   "id": "6832ce96-20a9-4e63-99e7-11d8e5bc6902",
   "metadata": {},
   "outputs": [],
   "source": [
    "exclude_columns = ['gini']"
   ]
  },
  {
   "cell_type": "code",
   "execution_count": 11,
   "id": "c4f62a79-0a59-4a85-8df8-109120132955",
   "metadata": {},
   "outputs": [],
   "source": [
    "train_set_poly = train_set.drop(columns=exclude_columns)\n",
    "test_set_poly = test_set.drop(columns=exclude_columns)\n",
    "train_set_untouched = train_set[exclude_columns]\n",
    "test_set_untouched = test_set[exclude_columns] "
   ]
  },
  {
   "cell_type": "code",
   "execution_count": 12,
   "id": "4f05ec85-acc0-47a9-a5d3-7fec4ae1ae37",
   "metadata": {},
   "outputs": [],
   "source": [
    "poly = PolynomialFeatures(degree=2, include_bias=False)\n",
    "train_set_poly_transformed = poly.fit_transform(train_set_poly)\n",
    "test_set_poly_transformed = poly.fit_transform(test_set_poly)"
   ]
  },
  {
   "cell_type": "code",
   "execution_count": 13,
   "id": "3c9e020c-459b-4281-b130-68c18d6422b5",
   "metadata": {},
   "outputs": [],
   "source": [
    "train_set_poly_transformed = pd.DataFrame(train_set_poly_transformed, columns=poly.get_feature_names_out(train_set_poly.columns))\n",
    "test_set_poly_transformed = pd.DataFrame(test_set_poly_transformed, columns=poly.get_feature_names_out(test_set_poly.columns))"
   ]
  },
  {
   "cell_type": "code",
   "execution_count": 14,
   "id": "506ff891-4cd2-4cd1-a9a6-2e08255a8ca8",
   "metadata": {},
   "outputs": [],
   "source": [
    "train_set_final = pd.concat([train_set_poly_transformed, train_set_untouched.reset_index(drop=True)], axis=1)\n",
    "test_set_final = pd.concat([test_set_poly_transformed, test_set_untouched.reset_index(drop=True)], axis=1)"
   ]
  },
  {
   "cell_type": "markdown",
   "id": "cfb105f1-c46a-4d6b-a29d-a36834d509ca",
   "metadata": {},
   "source": [
    "#### TPOT"
   ]
  },
  {
   "cell_type": "code",
   "execution_count": 15,
   "id": "f83e4c6a-7104-45de-a512-b554db717784",
   "metadata": {
    "tags": []
   },
   "outputs": [],
   "source": [
    "X_train = train_set.drop(columns = ['gini'])\n",
    "y_train = train_set['gini']"
   ]
  },
  {
   "cell_type": "code",
   "execution_count": 16,
   "id": "19190ffd-f1d0-4f55-adea-d4d141a19b35",
   "metadata": {},
   "outputs": [],
   "source": [
    "X_test = test_set.drop(columns = ['gini'])\n",
    "y_test = test_set['gini']"
   ]
  },
  {
   "cell_type": "code",
   "execution_count": null,
   "id": "25c040f2-d287-4d2b-b1cb-9b1c5c5c0480",
   "metadata": {},
   "outputs": [],
   "source": [
    "tpot = TPOTRegressor(verbosity = 2, config_dict = 'TPOT light')\n",
    "predictor = tpot.fit(X_train, y_train)"
   ]
  },
  {
   "cell_type": "code",
   "execution_count": 18,
   "id": "97112497-3fa3-4e5f-8ada-cde7ab5720cc",
   "metadata": {},
   "outputs": [],
   "source": [
    "y_pred = predictor.predict(X_test)"
   ]
  },
  {
   "cell_type": "code",
   "execution_count": null,
   "id": "88e85351",
   "metadata": {},
   "outputs": [],
   "source": []
  },
  {
   "cell_type": "code",
   "execution_count": null,
   "id": "bc94b363-4d4c-4be3-8671-1a4ccb6041b2",
   "metadata": {},
   "outputs": [],
   "source": [
    "rmse = np.sqrt(mean_squared_error(y_test, y_pred))\n",
    "\n",
    "print(f\"Root Mean Squared Error (RMSE): {rmse}\")"
   ]
  },
  {
   "cell_type": "code",
   "execution_count": null,
   "id": "545e071f-747c-46d4-a10d-8ea2c4783768",
   "metadata": {},
   "outputs": [],
   "source": [
    "r2 = r2_score(y_test, y_pred)\n",
    "print(r2)"
   ]
  },
  {
   "cell_type": "code",
   "execution_count": null,
   "id": "9b956d50-91fc-4db5-8578-ae705932d778",
   "metadata": {},
   "outputs": [],
   "source": []
  }
 ],
 "metadata": {
  "kernelspec": {
   "display_name": "Python 3",
   "language": "python",
   "name": "python3"
  },
  "language_info": {
   "codemirror_mode": {
    "name": "ipython",
    "version": 3
   },
   "file_extension": ".py",
   "mimetype": "text/x-python",
   "name": "python",
   "nbconvert_exporter": "python",
   "pygments_lexer": "ipython3",
   "version": "3.11.9"
  }
 },
 "nbformat": 4,
 "nbformat_minor": 5
}
