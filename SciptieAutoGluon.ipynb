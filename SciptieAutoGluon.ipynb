{
 "cells": [
  {
   "cell_type": "code",
   "execution_count": null,
   "id": "258999e3-aa44-444b-b47b-53144d84b61c",
   "metadata": {
    "tags": []
   },
   "outputs": [],
   "source": [
    "import pandas as pd\n",
    "from sklearn.model_selection import TimeSeriesSplit\n",
    "from autogluon.tabular import TabularPredictor, TabularDataset\n",
    "from sklearn.model_selection import train_test_split"
   ]
  },
  {
   "cell_type": "code",
   "execution_count": null,
   "id": "95c93140-8915-47b5-a140-a3fe6b969d33",
   "metadata": {
    "tags": []
   },
   "outputs": [],
   "source": [
    "df = pd.read_csv(\"Data Sheet 4.csv\")\n",
    "train_set = pd.read_csv(\"Data Sheet 2.csv\")\n",
    "test_set = pd.read_csv(\"Data Sheet 3.csv\")"
   ]
  },
  {
   "cell_type": "code",
   "execution_count": null,
   "id": "0b7c4c20-d73e-4945-94de-12c3d248db01",
   "metadata": {
    "tags": []
   },
   "outputs": [],
   "source": [
    "tscv = TimeSeriesSplit(n_splits=5)"
   ]
  },
  {
   "cell_type": "code",
   "execution_count": null,
   "id": "c5fc1fc1-face-4f48-9f53-64df219e24eb",
   "metadata": {},
   "outputs": [],
   "source": [
    "print(train_set.shape)\n",
    "print(test_set.shape)"
   ]
  },
  {
   "cell_type": "code",
   "execution_count": null,
   "id": "df258af2-63b9-410d-8bfd-382144f43d8a",
   "metadata": {},
   "outputs": [],
   "source": [
    "train_set = train_set.drop(columns = ['Unnamed: 0'])\n",
    "test_set = test_set.drop(columns = ['Unnamed: 0'])"
   ]
  },
  {
   "cell_type": "markdown",
   "id": "cfb105f1-c46a-4d6b-a29d-a36834d509ca",
   "metadata": {},
   "source": [
    "#### AutoGluon"
   ]
  },
  {
   "cell_type": "code",
   "execution_count": null,
   "id": "f83e4c6a-7104-45de-a512-b554db717784",
   "metadata": {
    "tags": []
   },
   "outputs": [],
   "source": [
    "label = 'gini'\n",
    "train_set[label].describe()"
   ]
  },
  {
   "cell_type": "code",
   "execution_count": null,
   "id": "25c040f2-d287-4d2b-b1cb-9b1c5c5c0480",
   "metadata": {},
   "outputs": [],
   "source": [
    "predictor = TabularPredictor(label=label, problem_type='regression').fit(train_set)"
   ]
  },
  {
   "cell_type": "code",
   "execution_count": null,
   "id": "97112497-3fa3-4e5f-8ada-cde7ab5720cc",
   "metadata": {},
   "outputs": [],
   "source": [
    "y_pred = predictor.predict(test_set.drop(columns=[label]))\n",
    "y_pred.head()"
   ]
  },
  {
   "cell_type": "code",
   "execution_count": null,
   "id": "bc94b363-4d4c-4be3-8671-1a4ccb6041b2",
   "metadata": {},
   "outputs": [],
   "source": [
    "predictor.evaluate(test_set, silent=True)"
   ]
  },
  {
   "cell_type": "code",
   "execution_count": null,
   "id": "e21693b4-f589-416e-b397-61e85eae3ce7",
   "metadata": {},
   "outputs": [],
   "source": [
    "predictor.leaderboard(test_set)"
   ]
  },
  {
   "cell_type": "code",
   "execution_count": null,
   "id": "0b3136b6-ad91-4b44-8789-a1defa82bd59",
   "metadata": {},
   "outputs": [],
   "source": []
  }
 ],
 "metadata": {
  "kernelspec": {
   "display_name": "Python 3 (ipykernel)",
   "language": "python",
   "name": "python3"
  },
  "language_info": {
   "codemirror_mode": {
    "name": "ipython",
    "version": 3
   },
   "file_extension": ".py",
   "mimetype": "text/x-python",
   "name": "python",
   "nbconvert_exporter": "python",
   "pygments_lexer": "ipython3",
   "version": "3.11.9"
  }
 },
 "nbformat": 4,
 "nbformat_minor": 5
}
