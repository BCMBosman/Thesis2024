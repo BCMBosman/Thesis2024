{
 "cells": [
  {
   "cell_type": "code",
   "execution_count": 18,
   "id": "258999e3-aa44-444b-b47b-53144d84b61c",
   "metadata": {
    "tags": []
   },
   "outputs": [],
   "source": [
    "import pandas as pd\n",
    "import numpy as np\n",
    "import h2o\n",
    "from sklearn.model_selection import train_test_split\n",
    "from sklearn.metrics import mean_squared_error, r2_score\n",
    "from sklearn.preprocessing import PolynomialFeatures\n",
    "import matplotlib.pyplot as plt\n",
    "import shap"
   ]
  },
  {
   "cell_type": "code",
   "execution_count": null,
   "id": "ce564713-7da6-4b0f-9c7c-a6f864dd1c77",
   "metadata": {},
   "outputs": [],
   "source": [
    "h2o.init()"
   ]
  },
  {
   "cell_type": "code",
   "execution_count": 20,
   "id": "4f4e1e45-9ce7-40d3-97a5-2b5f5b508eff",
   "metadata": {},
   "outputs": [],
   "source": [
    "from h2o.automl import H2OAutoML\n",
    "from h2o.frame import H2OFrame"
   ]
  },
  {
   "cell_type": "code",
   "execution_count": 21,
   "id": "95c93140-8915-47b5-a140-a3fe6b969d33",
   "metadata": {
    "tags": []
   },
   "outputs": [],
   "source": [
    "df = pd.read_csv(\"Data Sheet 4.csv\")\n",
    "train_set = pd.read_csv(\"Data Sheet 2.csv\")\n",
    "test_set = pd.read_csv(\"Data Sheet 3.csv\")"
   ]
  },
  {
   "cell_type": "code",
   "execution_count": null,
   "id": "c5fc1fc1-face-4f48-9f53-64df219e24eb",
   "metadata": {},
   "outputs": [],
   "source": [
    "print(train_set.shape)\n",
    "print(test_set.shape)"
   ]
  },
  {
   "cell_type": "code",
   "execution_count": 23,
   "id": "38fac94c-8159-4720-8513-87553b11be5e",
   "metadata": {},
   "outputs": [],
   "source": [
    "train_set = train_set.drop(columns = ['year', 'country', 'Unnamed: 0'])\n",
    "test_set = test_set.drop(columns = ['year', 'country', 'Unnamed: 0'])"
   ]
  },
  {
   "cell_type": "markdown",
   "id": "f9afe0f8-9d51-4bc4-93cf-6a88d95d4aae",
   "metadata": {},
   "source": [
    "#### Polynomialize features"
   ]
  },
  {
   "cell_type": "code",
   "execution_count": 24,
   "id": "01bc5f5c-bd76-4a30-9831-c3bb6a206ad0",
   "metadata": {},
   "outputs": [],
   "source": [
    "exclude_columns = ['gini']"
   ]
  },
  {
   "cell_type": "code",
   "execution_count": 25,
   "id": "7c23f02e-6e49-4270-adba-f90a49d14ae4",
   "metadata": {},
   "outputs": [],
   "source": [
    "train_set_poly = train_set.drop(columns=exclude_columns)\n",
    "test_set_poly = test_set.drop(columns=exclude_columns)\n",
    "train_set_untouched = train_set[exclude_columns]\n",
    "test_set_untouched = test_set[exclude_columns] "
   ]
  },
  {
   "cell_type": "code",
   "execution_count": 26,
   "id": "2cd73298-bcb4-4fee-b460-f3a027c9872e",
   "metadata": {},
   "outputs": [],
   "source": [
    "poly = PolynomialFeatures(degree=2, include_bias=False)\n",
    "train_set_poly_transformed = poly.fit_transform(train_set_poly)\n",
    "test_set_poly_transformed = poly.fit_transform(test_set_poly)"
   ]
  },
  {
   "cell_type": "code",
   "execution_count": 27,
   "id": "273236d8-6563-45db-a0b1-9f7e3d8f02d8",
   "metadata": {},
   "outputs": [],
   "source": [
    "train_set_poly_transformed = pd.DataFrame(train_set_poly_transformed, columns=poly.get_feature_names_out(train_set_poly.columns))\n",
    "test_set_poly_transformed = pd.DataFrame(test_set_poly_transformed, columns=poly.get_feature_names_out(test_set_poly.columns))"
   ]
  },
  {
   "cell_type": "code",
   "execution_count": 28,
   "id": "f39f62bb-6be9-4824-8cc4-fb13195d65c5",
   "metadata": {},
   "outputs": [],
   "source": [
    "train_set_final = pd.concat([train_set_poly_transformed, train_set_untouched.reset_index(drop=True)], axis=1)\n",
    "test_set_final = pd.concat([test_set_poly_transformed, test_set_untouched.reset_index(drop=True)], axis=1)"
   ]
  },
  {
   "cell_type": "code",
   "execution_count": 29,
   "id": "4bc2e4db-b5b2-4f91-98f4-6b224e79e80e",
   "metadata": {},
   "outputs": [],
   "source": [
    "train_set_final.columns = [col.replace(' ', '*') for col in train_set_final.columns]\n",
    "test_set_final.columns = [col.replace(' ', '*') for col in test_set_final.columns]"
   ]
  },
  {
   "cell_type": "markdown",
   "id": "cfb105f1-c46a-4d6b-a29d-a36834d509ca",
   "metadata": {},
   "source": [
    "#### H2O"
   ]
  },
  {
   "cell_type": "code",
   "execution_count": null,
   "id": "00d887cf-a089-42d1-b485-cd3ac1b5cf06",
   "metadata": {},
   "outputs": [],
   "source": [
    "train_h2o = H2OFrame(train_set_final)"
   ]
  },
  {
   "cell_type": "code",
   "execution_count": null,
   "id": "da1f8069-28a2-4a23-b3cb-e2c9f86f76e6",
   "metadata": {},
   "outputs": [],
   "source": [
    "test_h2o = H2OFrame(test_set_final)"
   ]
  },
  {
   "cell_type": "code",
   "execution_count": 32,
   "id": "459c12a8-4eba-4a7a-bf33-eddd90c3313d",
   "metadata": {},
   "outputs": [],
   "source": [
    "x = train_h2o.columns\n",
    "y = \"gini\"\n",
    "x.remove(y)"
   ]
  },
  {
   "cell_type": "code",
   "execution_count": null,
   "id": "25c040f2-d287-4d2b-b1cb-9b1c5c5c0480",
   "metadata": {},
   "outputs": [],
   "source": [
    "aml = H2OAutoML(max_models=20, max_runtime_secs=12000)\n",
    "aml.train(x=x, y=y, training_frame=train_h2o)"
   ]
  },
  {
   "cell_type": "code",
   "execution_count": null,
   "id": "97112497-3fa3-4e5f-8ada-cde7ab5720cc",
   "metadata": {},
   "outputs": [],
   "source": [
    "lb = aml.leaderboard\n",
    "lb.head(rows=15)"
   ]
  },
  {
   "cell_type": "code",
   "execution_count": null,
   "id": "92105e51-1ac1-46ab-9f9a-c03bb7360fb9",
   "metadata": {},
   "outputs": [],
   "source": [
    "aml.leader #Best model"
   ]
  },
  {
   "cell_type": "code",
   "execution_count": null,
   "id": "bc94b363-4d4c-4be3-8671-1a4ccb6041b2",
   "metadata": {},
   "outputs": [],
   "source": [
    "pred = aml.predict(test_h2o)\n",
    "actual = test_h2o[y].as_data_frame().values.flatten()\n",
    "pred2 = pred[0].as_data_frame().values.flatten()"
   ]
  },
  {
   "cell_type": "code",
   "execution_count": null,
   "id": "414850de-c487-4cbb-95ac-7674ffa4d5f0",
   "metadata": {},
   "outputs": [],
   "source": [
    "# Get the performance of the model on the test set\n",
    "perf = aml.leader.model_performance(test_data=test_h2o)\n",
    "\n",
    "# You can now print various performance metrics\n",
    "r_squared = perf.r2()\n",
    "mse = perf.mse()\n",
    "rmse = perf.rmse()\n",
    "\n",
    "print(f\"R-squared: {r_squared}\")\n",
    "print(f\"MSE: {mse}\")\n",
    "print(f\"RMSE: {rmse}\")"
   ]
  },
  {
   "cell_type": "code",
   "execution_count": 26,
   "id": "10dcf31f",
   "metadata": {},
   "outputs": [],
   "source": [
    "test_h2o = test_h2o.cbind(pred)"
   ]
  },
  {
   "cell_type": "code",
   "execution_count": 27,
   "id": "b0261b4f",
   "metadata": {},
   "outputs": [],
   "source": [
    "test_h2o[\"residual\"] = test_h2o[y] - test_h2o['predict']"
   ]
  },
  {
   "cell_type": "code",
   "execution_count": null,
   "id": "fd9e3ee2",
   "metadata": {},
   "outputs": [],
   "source": [
    "# Create scatterplot\n",
    "plt.figure(figsize=(8, 6))\n",
    "min_val = min(min(actual), min(pred2))\n",
    "max_val = max(max(actual), max(pred2))\n",
    "plt.plot([min_val, max_val], [min_val, max_val], color='red', linestyle='--', linewidth=2, label=\"y = x\")\n",
    "plt.scatter(actual, pred2, alpha=0.6)\n",
    "plt.title(\"Predicted vs Actual Values\")\n",
    "plt.xlabel(\"Actual Values\")\n",
    "plt.ylabel(\"Predicted Values\")\n",
    "plt.grid(True)\n",
    "plt.show()"
   ]
  },
  {
   "cell_type": "code",
   "execution_count": null,
   "id": "364bcac6",
   "metadata": {},
   "outputs": [],
   "source": [
    "predicted = test_h2o[\"predict\"].as_data_frame()\n",
    "residuals = test_h2o[\"residual\"].as_data_frame()\n",
    "\n",
    "# Scatter plot\n",
    "plt.scatter(predicted, residuals, alpha=0.5)\n",
    "plt.axhline(0, color=\"red\", linestyle=\"--\")\n",
    "plt.title(\"Residuals vs Predicted Values\")\n",
    "plt.xlabel(\"Predicted Values\")\n",
    "plt.ylabel(\"Residuals\")\n",
    "plt.show()"
   ]
  },
  {
   "cell_type": "code",
   "execution_count": null,
   "id": "c4fd13a9",
   "metadata": {},
   "outputs": [],
   "source": [
    "feature = test_h2o[\"gini\"].as_data_frame()\n",
    "plt.scatter(feature, residuals, alpha=0.5)\n",
    "plt.axhline(0, color=\"red\", linestyle=\"--\")\n",
    "plt.title(\"Residuals vs Actual\")\n",
    "plt.xlabel(\"Actual\")\n",
    "plt.ylabel(\"Residuals\")\n",
    "plt.show()"
   ]
  },
  {
   "cell_type": "code",
   "execution_count": null,
   "id": "a8b125d1-13a6-4dac-be46-50c6f462b86e",
   "metadata": {},
   "outputs": [],
   "source": [
    "exa = aml.explain(test_h2o)"
   ]
  },
  {
   "cell_type": "code",
   "execution_count": null,
   "id": "5382622a-64d6-4a8c-9778-b9281c96409a",
   "metadata": {},
   "outputs": [],
   "source": [
    "residuals = test_data['actual'] - test_data['predicted']\n",
    "sns.histplot(residuals)  # Check residual distribution"
   ]
  },
  {
   "cell_type": "code",
   "execution_count": null,
   "id": "74b500b5",
   "metadata": {},
   "outputs": [],
   "source": []
  }
 ],
 "metadata": {
  "kernelspec": {
   "display_name": "Python 3",
   "language": "python",
   "name": "python3"
  },
  "language_info": {
   "codemirror_mode": {
    "name": "ipython",
    "version": 3
   },
   "file_extension": ".py",
   "mimetype": "text/x-python",
   "name": "python",
   "nbconvert_exporter": "python",
   "pygments_lexer": "ipython3",
   "version": "3.11.9"
  }
 },
 "nbformat": 4,
 "nbformat_minor": 5
}
