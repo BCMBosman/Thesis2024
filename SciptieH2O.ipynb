{
 "cells": [
  {
   "cell_type": "code",
   "execution_count": 3,
   "id": "258999e3-aa44-444b-b47b-53144d84b61c",
   "metadata": {
    "tags": []
   },
   "outputs": [],
   "source": [
    "import pandas as pd\n",
    "import numpy as np\n",
    "import h2o\n",
    "from sklearn.model_selection import train_test_split\n",
    "from sklearn.metrics import mean_squared_error, r2_score"
   ]
  },
  {
   "cell_type": "code",
   "execution_count": null,
   "id": "ce564713-7da6-4b0f-9c7c-a6f864dd1c77",
   "metadata": {},
   "outputs": [],
   "source": [
    "h2o.init()"
   ]
  },
  {
   "cell_type": "code",
   "execution_count": 5,
   "id": "4f4e1e45-9ce7-40d3-97a5-2b5f5b508eff",
   "metadata": {},
   "outputs": [],
   "source": [
    "from h2o.automl import H2OAutoML\n",
    "from h2o.frame import H2OFrame"
   ]
  },
  {
   "cell_type": "code",
   "execution_count": 6,
   "id": "95c93140-8915-47b5-a140-a3fe6b969d33",
   "metadata": {
    "tags": []
   },
   "outputs": [],
   "source": [
    "df = pd.read_csv(\"Data Sheet 4.csv\")\n",
    "train_set = pd.read_csv(\"Data Sheet 2.csv\")\n",
    "test_set = pd.read_csv(\"Data Sheet 3.csv\")"
   ]
  },
  {
   "cell_type": "code",
   "execution_count": null,
   "id": "c5fc1fc1-face-4f48-9f53-64df219e24eb",
   "metadata": {},
   "outputs": [],
   "source": [
    "print(train_set.shape)\n",
    "print(test_set.shape)"
   ]
  },
  {
   "cell_type": "code",
   "execution_count": 8,
   "id": "d051be91-8255-48a7-b881-a70068532e21",
   "metadata": {},
   "outputs": [],
   "source": [
    "train_set = train_set.drop(columns = ['year', 'country', 'Unnamed: 0'])\n",
    "test_set = test_set.drop(columns = ['year', 'country', 'Unnamed: 0'])"
   ]
  },
  {
   "cell_type": "markdown",
   "id": "cfb105f1-c46a-4d6b-a29d-a36834d509ca",
   "metadata": {},
   "source": [
    "#### H2O"
   ]
  },
  {
   "cell_type": "code",
   "execution_count": null,
   "id": "00d887cf-a089-42d1-b485-cd3ac1b5cf06",
   "metadata": {},
   "outputs": [],
   "source": [
    "train_h2o = H2OFrame(train_set)"
   ]
  },
  {
   "cell_type": "code",
   "execution_count": null,
   "id": "da1f8069-28a2-4a23-b3cb-e2c9f86f76e6",
   "metadata": {},
   "outputs": [],
   "source": [
    "test_h2o = H2OFrame(test_set)"
   ]
  },
  {
   "cell_type": "code",
   "execution_count": 11,
   "id": "459c12a8-4eba-4a7a-bf33-eddd90c3313d",
   "metadata": {},
   "outputs": [],
   "source": [
    "x = train_h2o.columns\n",
    "y = \"gini\"\n",
    "x.remove(y)"
   ]
  },
  {
   "cell_type": "code",
   "execution_count": null,
   "id": "25c040f2-d287-4d2b-b1cb-9b1c5c5c0480",
   "metadata": {},
   "outputs": [],
   "source": [
    "aml = H2OAutoML(max_models=20, max_runtime_secs=12000)\n",
    "aml.train(x=x, y=y, training_frame=train_h2o)"
   ]
  },
  {
   "cell_type": "code",
   "execution_count": null,
   "id": "97112497-3fa3-4e5f-8ada-cde7ab5720cc",
   "metadata": {},
   "outputs": [],
   "source": [
    "lb = aml.leaderboard\n",
    "lb.head(rows=15)"
   ]
  },
  {
   "cell_type": "code",
   "execution_count": null,
   "id": "bc94b363-4d4c-4be3-8671-1a4ccb6041b2",
   "metadata": {},
   "outputs": [],
   "source": [
    "pred = aml.predict(test_h2o)\n",
    "pred = pred[0].as_data_frame().values.flatten()"
   ]
  },
  {
   "cell_type": "code",
   "execution_count": null,
   "id": "414850de-c487-4cbb-95ac-7674ffa4d5f0",
   "metadata": {},
   "outputs": [],
   "source": [
    "# Get the performance of the model on the test set\n",
    "perf = aml.leader.model_performance(test_data=test_h2o)\n",
    "\n",
    "# You can now print various performance metrics\n",
    "r_squared = perf.r2()\n",
    "mse = perf.mse()\n",
    "rmse = perf.rmse()\n",
    "\n",
    "print(f\"R-squared: {r_squared}\")\n",
    "print(f\"MSE: {mse}\")\n",
    "print(f\"RMSE: {rmse}\")"
   ]
  },
  {
   "cell_type": "code",
   "execution_count": null,
   "id": "8ffacac9-04e1-46ce-9bbf-1d2ff4195718",
   "metadata": {},
   "outputs": [],
   "source": [
    "perf"
   ]
  },
  {
   "cell_type": "code",
   "execution_count": null,
   "id": "e09d172a-8d6f-43ca-bfd1-797f41108dec",
   "metadata": {},
   "outputs": [],
   "source": [
    "exa = aml.explain(test_h2o)"
   ]
  },
  {
   "cell_type": "code",
   "execution_count": null,
   "id": "252b471d-e010-4290-953a-504672a6f35c",
   "metadata": {},
   "outputs": [],
   "source": []
  }
 ],
 "metadata": {
  "kernelspec": {
   "display_name": "Python 3",
   "language": "python",
   "name": "python3"
  },
  "language_info": {
   "codemirror_mode": {
    "name": "ipython",
    "version": 3
   },
   "file_extension": ".py",
   "mimetype": "text/x-python",
   "name": "python",
   "nbconvert_exporter": "python",
   "pygments_lexer": "ipython3",
   "version": "3.11.9"
  }
 },
 "nbformat": 4,
 "nbformat_minor": 5
}
