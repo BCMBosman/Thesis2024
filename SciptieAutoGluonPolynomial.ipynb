{
 "cells": [
  {
   "cell_type": "code",
   "execution_count": null,
   "id": "258999e3-aa44-444b-b47b-53144d84b61c",
   "metadata": {
    "tags": []
   },
   "outputs": [],
   "source": [
    "import pandas as pd\n",
    "from sklearn.model_selection import TimeSeriesSplit\n",
    "from autogluon.tabular import TabularPredictor, TabularDataset\n",
    "from sklearn.model_selection import train_test_split\n",
    "from sklearn.preprocessing import PolynomialFeatures"
   ]
  },
  {
   "cell_type": "code",
   "execution_count": null,
   "id": "95c93140-8915-47b5-a140-a3fe6b969d33",
   "metadata": {
    "tags": []
   },
   "outputs": [],
   "source": [
    "df = pd.read_csv(\"Data Sheet 4.csv\")\n",
    "train_set = pd.read_csv(\"Data Sheet 2.csv\")\n",
    "test_set = pd.read_csv(\"Data Sheet 3.csv\")"
   ]
  },
  {
   "cell_type": "code",
   "execution_count": null,
   "id": "0b7c4c20-d73e-4945-94de-12c3d248db01",
   "metadata": {
    "tags": []
   },
   "outputs": [],
   "source": [
    "tscv = TimeSeriesSplit(n_splits=5)"
   ]
  },
  {
   "cell_type": "code",
   "execution_count": null,
   "id": "c5fc1fc1-face-4f48-9f53-64df219e24eb",
   "metadata": {},
   "outputs": [],
   "source": [
    "print(train_set.shape)\n",
    "print(test_set.shape)"
   ]
  },
  {
   "cell_type": "code",
   "execution_count": null,
   "id": "4bebb9d7-1fdb-4383-84e7-5d7755480511",
   "metadata": {},
   "outputs": [],
   "source": [
    "train_set = train_set.drop(columns = ['Unnamed: 0'])\n",
    "test_set = test_set.drop(columns = ['Unnamed: 0'])"
   ]
  },
  {
   "cell_type": "code",
   "execution_count": null,
   "id": "6bdac2a8-5344-4b4e-88a5-9c309c1bc963",
   "metadata": {},
   "outputs": [],
   "source": [
    "train_set.head()"
   ]
  },
  {
   "cell_type": "markdown",
   "id": "a874ee72-47c2-4ad7-b810-cf752e8f93f9",
   "metadata": {},
   "source": [
    "#### Polynomialize Features"
   ]
  },
  {
   "cell_type": "code",
   "execution_count": null,
   "id": "ef95da8e-da50-48a3-a01c-2ee6b89ef9da",
   "metadata": {},
   "outputs": [],
   "source": [
    "exclude_columns = ['year', 'country', 'gini']"
   ]
  },
  {
   "cell_type": "code",
   "execution_count": null,
   "id": "146844ee-7936-401d-87e0-c8f2b9b7936e",
   "metadata": {},
   "outputs": [],
   "source": [
    "train_set_poly = train_set.drop(columns=exclude_columns)\n",
    "test_set_poly = test_set.drop(columns=exclude_columns)\n",
    "train_set_untouched = train_set[exclude_columns]\n",
    "test_set_untouched = test_set[exclude_columns] "
   ]
  },
  {
   "cell_type": "code",
   "execution_count": null,
   "id": "7471f311-927d-4b74-bd7f-d235e9cc4360",
   "metadata": {},
   "outputs": [],
   "source": [
    "poly = PolynomialFeatures(degree=2, include_bias=False)\n",
    "train_set_poly_transformed = poly.fit_transform(train_set_poly)\n",
    "test_set_poly_transformed = poly.fit_transform(test_set_poly)"
   ]
  },
  {
   "cell_type": "code",
   "execution_count": null,
   "id": "d05bb665-dea0-4704-9679-818a82e436a7",
   "metadata": {},
   "outputs": [],
   "source": [
    "train_set_poly_transformed = pd.DataFrame(train_set_poly_transformed, columns=poly.get_feature_names_out(train_set_poly.columns))\n",
    "test_set_poly_transformed = pd.DataFrame(test_set_poly_transformed, columns=poly.get_feature_names_out(test_set_poly.columns))"
   ]
  },
  {
   "cell_type": "code",
   "execution_count": null,
   "id": "41d157ee-d753-4b57-8872-a876cac9e699",
   "metadata": {},
   "outputs": [],
   "source": [
    "train_set_final = pd.concat([train_set_poly_transformed, train_set_untouched.reset_index(drop=True)], axis=1)\n",
    "test_set_final = pd.concat([test_set_poly_transformed, test_set_untouched.reset_index(drop=True)], axis=1)"
   ]
  },
  {
   "cell_type": "markdown",
   "id": "cfb105f1-c46a-4d6b-a29d-a36834d509ca",
   "metadata": {},
   "source": [
    "#### AutoGluon"
   ]
  },
  {
   "cell_type": "code",
   "execution_count": null,
   "id": "f83e4c6a-7104-45de-a512-b554db717784",
   "metadata": {
    "tags": []
   },
   "outputs": [],
   "source": [
    "label = 'gini'\n",
    "train_set[label].describe()"
   ]
  },
  {
   "cell_type": "code",
   "execution_count": null,
   "id": "25c040f2-d287-4d2b-b1cb-9b1c5c5c0480",
   "metadata": {},
   "outputs": [],
   "source": [
    "predictor = TabularPredictor(label=label, problem_type='regression').fit(train_set_final)"
   ]
  },
  {
   "cell_type": "code",
   "execution_count": null,
   "id": "97112497-3fa3-4e5f-8ada-cde7ab5720cc",
   "metadata": {},
   "outputs": [],
   "source": [
    "y_pred = predictor.predict(test_set_final.drop(columns=[label]))\n",
    "y_pred.head()"
   ]
  },
  {
   "cell_type": "code",
   "execution_count": null,
   "id": "bc94b363-4d4c-4be3-8671-1a4ccb6041b2",
   "metadata": {},
   "outputs": [],
   "source": [
    "predictor.evaluate(test_set_final, silent=True)"
   ]
  },
  {
   "cell_type": "code",
   "execution_count": null,
   "id": "e21693b4-f589-416e-b397-61e85eae3ce7",
   "metadata": {},
   "outputs": [],
   "source": [
    "predictor.leaderboard(test_set_final)"
   ]
  },
  {
   "cell_type": "code",
   "execution_count": null,
   "id": "0b3136b6-ad91-4b44-8789-a1defa82bd59",
   "metadata": {},
   "outputs": [],
   "source": []
  }
 ],
 "metadata": {
  "kernelspec": {
   "display_name": "Python 3",
   "language": "python",
   "name": "python3"
  },
  "language_info": {
   "codemirror_mode": {
    "name": "ipython",
    "version": 3
   },
   "file_extension": ".py",
   "mimetype": "text/x-python",
   "name": "python",
   "nbconvert_exporter": "python",
   "pygments_lexer": "ipython3",
   "version": "3.11.10"
  }
 },
 "nbformat": 4,
 "nbformat_minor": 5
}
