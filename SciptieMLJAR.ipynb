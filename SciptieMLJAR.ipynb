{
 "cells": [
  {
   "cell_type": "code",
   "execution_count": null,
   "id": "258999e3-aa44-444b-b47b-53144d84b61c",
   "metadata": {
    "tags": []
   },
   "outputs": [],
   "source": [
    "import pandas as pd\n",
    "import numpy as np\n",
    "from sklearn.model_selection import TimeSeriesSplit\n",
    "from supervised import AutoML\n",
    "from sklearn.model_selection import train_test_split\n",
    "from sklearn.metrics import mean_squared_error, r2_score"
   ]
  },
  {
   "cell_type": "code",
   "execution_count": null,
   "id": "95c93140-8915-47b5-a140-a3fe6b969d33",
   "metadata": {
    "tags": []
   },
   "outputs": [],
   "source": [
    "df = pd.read_csv(\"Data Sheet 4.csv\")\n",
    "train_set = pd.read_csv(\"Data Sheet 2.csv\")\n",
    "test_set = pd.read_csv(\"Data Sheet 3.csv\")"
   ]
  },
  {
   "cell_type": "code",
   "execution_count": null,
   "id": "c5fc1fc1-face-4f48-9f53-64df219e24eb",
   "metadata": {},
   "outputs": [],
   "source": [
    "print(train_set.shape)\n",
    "print(test_set.shape)"
   ]
  },
  {
   "cell_type": "code",
   "execution_count": null,
   "id": "9a0dd5dc-f13a-485b-b77d-b8ba2e3ad588",
   "metadata": {},
   "outputs": [],
   "source": [
    "train_set = train_set.drop(columns = ['Unnamed: 0'])\n",
    "test_set = test_set.drop(columns = ['Unnamed: 0'])"
   ]
  },
  {
   "cell_type": "markdown",
   "id": "cfb105f1-c46a-4d6b-a29d-a36834d509ca",
   "metadata": {},
   "source": [
    "#### MLJAR"
   ]
  },
  {
   "cell_type": "code",
   "execution_count": null,
   "id": "f83e4c6a-7104-45de-a512-b554db717784",
   "metadata": {
    "tags": []
   },
   "outputs": [],
   "source": [
    "X_train = train_set.drop(columns = ['gini'])\n",
    "y_train = train_set['gini']"
   ]
  },
  {
   "cell_type": "code",
   "execution_count": null,
   "id": "19190ffd-f1d0-4f55-adea-d4d141a19b35",
   "metadata": {},
   "outputs": [],
   "source": [
    "X_test = test_set.drop(columns = ['gini'])\n",
    "y_test = test_set['gini']"
   ]
  },
  {
   "cell_type": "code",
   "execution_count": null,
   "id": "25c040f2-d287-4d2b-b1cb-9b1c5c5c0480",
   "metadata": {
    "scrolled": true
   },
   "outputs": [],
   "source": [
    "automl = AutoML()\n",
    "predictor = automl.fit(X_train, y_train)"
   ]
  },
  {
   "cell_type": "code",
   "execution_count": null,
   "id": "97112497-3fa3-4e5f-8ada-cde7ab5720cc",
   "metadata": {},
   "outputs": [],
   "source": [
    "y_pred = predictor.predict(X_test)"
   ]
  },
  {
   "cell_type": "code",
   "execution_count": null,
   "id": "bc94b363-4d4c-4be3-8671-1a4ccb6041b2",
   "metadata": {},
   "outputs": [],
   "source": [
    "rmse = np.sqrt(mean_squared_error(y_test, y_pred))\n",
    "\n",
    "print(f\"Root Mean Squared Error (RMSE): {rmse}\")"
   ]
  },
  {
   "cell_type": "code",
   "execution_count": null,
   "id": "414850de-c487-4cbb-95ac-7674ffa4d5f0",
   "metadata": {},
   "outputs": [],
   "source": [
    "r2 = r2_score(y_test, y_pred)\n",
    "print(r2)"
   ]
  },
  {
   "cell_type": "code",
   "execution_count": null,
   "id": "e09d172a-8d6f-43ca-bfd1-797f41108dec",
   "metadata": {},
   "outputs": [],
   "source": []
  }
 ],
 "metadata": {
  "kernelspec": {
   "display_name": "Python 3.11",
   "language": "python",
   "name": "python3.11"
  },
  "language_info": {
   "codemirror_mode": {
    "name": "ipython",
    "version": 3
   },
   "file_extension": ".py",
   "mimetype": "text/x-python",
   "name": "python",
   "nbconvert_exporter": "python",
   "pygments_lexer": "ipython3",
   "version": "3.11.9"
  }
 },
 "nbformat": 4,
 "nbformat_minor": 5
}
