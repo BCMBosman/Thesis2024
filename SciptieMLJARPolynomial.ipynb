{
 "cells": [
  {
   "cell_type": "code",
   "execution_count": 1,
   "id": "258999e3-aa44-444b-b47b-53144d84b61c",
   "metadata": {
    "tags": []
   },
   "outputs": [],
   "source": [
    "import pandas as pd\n",
    "import numpy as np\n",
    "from sklearn.model_selection import TimeSeriesSplit\n",
    "from supervised import AutoML\n",
    "from sklearn.model_selection import train_test_split\n",
    "from sklearn.metrics import mean_squared_error, r2_score\n",
    "from sklearn.preprocessing import PolynomialFeatures"
   ]
  },
  {
   "cell_type": "code",
   "execution_count": 2,
   "id": "95c93140-8915-47b5-a140-a3fe6b969d33",
   "metadata": {
    "tags": []
   },
   "outputs": [],
   "source": [
    "df = pd.read_csv(\"Data Sheet 4.csv\")\n",
    "train_set = pd.read_csv(\"Data Sheet 2.csv\")\n",
    "test_set = pd.read_csv(\"Data Sheet 3.csv\")"
   ]
  },
  {
   "cell_type": "code",
   "execution_count": null,
   "id": "c5fc1fc1-face-4f48-9f53-64df219e24eb",
   "metadata": {},
   "outputs": [],
   "source": [
    "print(train_set.shape)\n",
    "print(test_set.shape)"
   ]
  },
  {
   "cell_type": "code",
   "execution_count": 4,
   "id": "d428cdc9",
   "metadata": {},
   "outputs": [],
   "source": [
    "train_set = train_set.rename(columns={'personal': 'labour', 'corporate': 'capital'})\n",
    "test_set = test_set.rename(columns={'personal': 'labour', 'corporate': 'capital'})\n"
   ]
  },
  {
   "cell_type": "code",
   "execution_count": 5,
   "id": "1cfc36c4-7da8-4c98-a4d7-bca7062d940c",
   "metadata": {},
   "outputs": [],
   "source": [
    "train_set = train_set.drop(columns = ['year', 'country', 'Unnamed: 0'])\n",
    "test_set = test_set.drop(columns = ['year', 'country', 'Unnamed: 0'])"
   ]
  },
  {
   "cell_type": "markdown",
   "id": "cd5938bf-9664-40fc-9867-ccff672c931f",
   "metadata": {},
   "source": [
    "#### Polynomialize Features"
   ]
  },
  {
   "cell_type": "code",
   "execution_count": 6,
   "id": "358559a1-e383-4003-a425-737109a9da31",
   "metadata": {},
   "outputs": [],
   "source": [
    "exclude_columns = ['gini']"
   ]
  },
  {
   "cell_type": "code",
   "execution_count": 7,
   "id": "a2cef2c1-effe-449d-afcb-dfc11190d415",
   "metadata": {},
   "outputs": [],
   "source": [
    "train_set_poly = train_set.drop(columns=exclude_columns)\n",
    "test_set_poly = test_set.drop(columns=exclude_columns)\n",
    "train_set_untouched = train_set[exclude_columns]\n",
    "test_set_untouched = test_set[exclude_columns] "
   ]
  },
  {
   "cell_type": "code",
   "execution_count": 8,
   "id": "6c5ccfbf-9b8a-4f29-8ad1-25636eecd196",
   "metadata": {},
   "outputs": [],
   "source": [
    "poly = PolynomialFeatures(degree=2, include_bias=False)\n",
    "train_set_poly_transformed = poly.fit_transform(train_set_poly)\n",
    "test_set_poly_transformed = poly.fit_transform(test_set_poly)"
   ]
  },
  {
   "cell_type": "code",
   "execution_count": 9,
   "id": "f3b7ab45-ac27-48a0-ac3f-f3b167cde41d",
   "metadata": {},
   "outputs": [],
   "source": [
    "train_set_poly_transformed = pd.DataFrame(train_set_poly_transformed, columns=poly.get_feature_names_out(train_set_poly.columns))\n",
    "test_set_poly_transformed = pd.DataFrame(test_set_poly_transformed, columns=poly.get_feature_names_out(test_set_poly.columns))"
   ]
  },
  {
   "cell_type": "code",
   "execution_count": 10,
   "id": "4191e243-edab-4ba5-97d3-a9e18c659407",
   "metadata": {},
   "outputs": [],
   "source": [
    "train_set_final = pd.concat([train_set_poly_transformed, train_set_untouched.reset_index(drop=True)], axis=1)\n",
    "test_set_final = pd.concat([test_set_poly_transformed, test_set_untouched.reset_index(drop=True)], axis=1)"
   ]
  },
  {
   "cell_type": "markdown",
   "id": "cfb105f1-c46a-4d6b-a29d-a36834d509ca",
   "metadata": {},
   "source": [
    "#### MLJAR"
   ]
  },
  {
   "cell_type": "code",
   "execution_count": 11,
   "id": "f83e4c6a-7104-45de-a512-b554db717784",
   "metadata": {
    "tags": []
   },
   "outputs": [],
   "source": [
    "X_train = train_set_final.drop(columns = ['gini'])\n",
    "y_train = train_set_final['gini']"
   ]
  },
  {
   "cell_type": "code",
   "execution_count": 12,
   "id": "19190ffd-f1d0-4f55-adea-d4d141a19b35",
   "metadata": {},
   "outputs": [],
   "source": [
    "X_test = test_set_final.drop(columns = ['gini'])\n",
    "y_test = test_set_final['gini']"
   ]
  },
  {
   "cell_type": "code",
   "execution_count": null,
   "id": "25c040f2-d287-4d2b-b1cb-9b1c5c5c0480",
   "metadata": {
    "scrolled": true
   },
   "outputs": [],
   "source": [
    "automl = AutoML(train_ensemble=False, algorithms=[\"Baseline\", \"Linear\", \"Decision Tree\", \"Random Forest\", \"Xgboost\", \"LightGBM\", \"CatBoost\", \"Neural Network\"])\n",
    "predictor = automl.fit(X_train, y_train)"
   ]
  },
  {
   "cell_type": "code",
   "execution_count": 14,
   "id": "97112497-3fa3-4e5f-8ada-cde7ab5720cc",
   "metadata": {},
   "outputs": [],
   "source": [
    "y_pred = predictor.predict(X_test)"
   ]
  },
  {
   "cell_type": "code",
   "execution_count": null,
   "id": "bc94b363-4d4c-4be3-8671-1a4ccb6041b2",
   "metadata": {},
   "outputs": [],
   "source": [
    "rmse = np.sqrt(mean_squared_error(y_test, y_pred))\n",
    "print(f\"Root Mean Squared Error (RMSE): {rmse}\")"
   ]
  },
  {
   "cell_type": "code",
   "execution_count": null,
   "id": "414850de-c487-4cbb-95ac-7674ffa4d5f0",
   "metadata": {},
   "outputs": [],
   "source": [
    "r2 = r2_score(y_test, y_pred)\n",
    "print(r2)"
   ]
  },
  {
   "cell_type": "code",
   "execution_count": null,
   "id": "e09d172a-8d6f-43ca-bfd1-797f41108dec",
   "metadata": {},
   "outputs": [],
   "source": [
    "leaderboard = automl.get_leaderboard()\n",
    "print(leaderboard)"
   ]
  },
  {
   "cell_type": "code",
   "execution_count": null,
   "id": "c7d9f026",
   "metadata": {},
   "outputs": [],
   "source": []
  }
 ],
 "metadata": {
  "kernelspec": {
   "display_name": "Python 3",
   "language": "python",
   "name": "python3"
  },
  "language_info": {
   "codemirror_mode": {
    "name": "ipython",
    "version": 3
   },
   "file_extension": ".py",
   "mimetype": "text/x-python",
   "name": "python",
   "nbconvert_exporter": "python",
   "pygments_lexer": "ipython3",
   "version": "3.11.9"
  }
 },
 "nbformat": 4,
 "nbformat_minor": 5
}
